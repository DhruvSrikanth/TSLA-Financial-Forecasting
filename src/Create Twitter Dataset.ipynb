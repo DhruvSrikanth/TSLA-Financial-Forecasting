{
 "cells": [
  {
   "cell_type": "markdown",
   "id": "a05dc8e4",
   "metadata": {},
   "source": [
    "### Process Twitter Dataset"
   ]
  },
  {
   "cell_type": "code",
   "execution_count": 102,
   "id": "441991d0",
   "metadata": {},
   "outputs": [],
   "source": [
    "import pandas as pd"
   ]
  },
  {
   "cell_type": "code",
   "execution_count": 103,
   "id": "39458d7c",
   "metadata": {},
   "outputs": [],
   "source": [
    "def restrict_data(number_of_files):\n",
    "    dfs = []\n",
    "    file_path = 'data/raw/Elon_Musk_tweets/201'\n",
    "    for i in range(0,number_of_files,1):\n",
    "        fp = file_path + str(i) + '.csv'\n",
    "        print('Processing {}'.format(fp))\n",
    "        tweet_details_df = pd.read_csv(fp)\n",
    "        dates = tweet_details_df.date.tolist()\n",
    "        dates = map(lambda x: x.split(' ')[0], dates)\n",
    "        tweets = tweet_details_df.tweet.tolist()\n",
    "        df = pd.DataFrame({'Date': dates,\n",
    "                           'Tweet':tweets})\n",
    "        dfs.append(df)\n",
    "    return dfs"
   ]
  },
  {
   "cell_type": "code",
   "execution_count": 104,
   "id": "fbaddd8c",
   "metadata": {},
   "outputs": [],
   "source": [
    "def concatenate_dfs(dfs):\n",
    "    dates = []\n",
    "    tweets = []\n",
    "    for df in dfs:\n",
    "        print(\"Adding data for {}\".format(df.Date.tolist()[0].split('-')[0]))\n",
    "        dates.extend(df.Date.tolist())\n",
    "        tweets.extend(df.Tweet.tolist())\n",
    "    df = pd.DataFrame({'Date': dates,\n",
    "                           'Tweet':tweets})\n",
    "    return df"
   ]
  },
  {
   "cell_type": "code",
   "execution_count": 105,
   "id": "a4c58f5d",
   "metadata": {},
   "outputs": [],
   "source": [
    "import preprocessor as preprocessor_model\n",
    "from vaderSentiment.vaderSentiment import SentimentIntensityAnalyzer\n",
    "\n",
    "def get_sentiment(tweet):\n",
    "    sentiment_model = SentimentIntensityAnalyzer()\n",
    "    score = sentiment_model.polarity_scores(tweet)['compound']\n",
    "    return score\n",
    "\n",
    "def get_cleaned_text(text):\n",
    "    cleaned_text = preprocessor_model.clean(text)\n",
    "    return cleaned_text\n",
    "\n"
   ]
  },
  {
   "cell_type": "code",
   "execution_count": 106,
   "id": "20227887",
   "metadata": {},
   "outputs": [
    {
     "name": "stdout",
     "output_type": "stream",
     "text": [
      "Processing data/raw/Elon_Musk_tweets/2010.csv\n",
      "Processing data/raw/Elon_Musk_tweets/2011.csv\n",
      "Processing data/raw/Elon_Musk_tweets/2012.csv\n"
     ]
    }
   ],
   "source": [
    "dfs = restrict_data(3)"
   ]
  },
  {
   "cell_type": "code",
   "execution_count": 107,
   "id": "2817d298",
   "metadata": {},
   "outputs": [
    {
     "name": "stdout",
     "output_type": "stream",
     "text": [
      "Adding data for 2010\n",
      "Adding data for 2011\n",
      "Adding data for 2012\n"
     ]
    }
   ],
   "source": [
    "concatenated_df = concatenate_dfs(dfs)"
   ]
  },
  {
   "cell_type": "code",
   "execution_count": 108,
   "id": "c82e8990",
   "metadata": {},
   "outputs": [],
   "source": [
    "concatenated_df['Cleaned Tweet'] = list(map(get_cleaned_text, concatenated_df['Tweet'].tolist()))"
   ]
  },
  {
   "cell_type": "code",
   "execution_count": 113,
   "id": "f29a8a2b",
   "metadata": {},
   "outputs": [],
   "source": [
    "concatenated_df['Sentiment Score'] = list(map(get_sentiment, concatenated_df['Cleaned Tweet'].tolist()))\n"
   ]
  },
  {
   "cell_type": "code",
   "execution_count": 123,
   "id": "4cd57be8",
   "metadata": {},
   "outputs": [],
   "source": [
    "sentiment_df = concatenated_df[['Date', 'Sentiment Score']]\n",
    "sentiment_df = sentiment_df.groupby(['Date']).mean()"
   ]
  },
  {
   "cell_type": "code",
   "execution_count": 124,
   "id": "0bde2a5d",
   "metadata": {},
   "outputs": [
    {
     "data": {
      "text/html": [
       "<div>\n",
       "<style scoped>\n",
       "    .dataframe tbody tr th:only-of-type {\n",
       "        vertical-align: middle;\n",
       "    }\n",
       "\n",
       "    .dataframe tbody tr th {\n",
       "        vertical-align: top;\n",
       "    }\n",
       "\n",
       "    .dataframe thead th {\n",
       "        text-align: right;\n",
       "    }\n",
       "</style>\n",
       "<table border=\"1\" class=\"dataframe\">\n",
       "  <thead>\n",
       "    <tr style=\"text-align: right;\">\n",
       "      <th></th>\n",
       "      <th>Sentiment Score</th>\n",
       "    </tr>\n",
       "    <tr>\n",
       "      <th>Date</th>\n",
       "      <th></th>\n",
       "    </tr>\n",
       "  </thead>\n",
       "  <tbody>\n",
       "    <tr>\n",
       "      <th>2010-06-04</th>\n",
       "      <td>0.051600</td>\n",
       "    </tr>\n",
       "    <tr>\n",
       "      <th>2011-12-01</th>\n",
       "      <td>0.413400</td>\n",
       "    </tr>\n",
       "    <tr>\n",
       "      <th>2011-12-03</th>\n",
       "      <td>0.299700</td>\n",
       "    </tr>\n",
       "    <tr>\n",
       "      <th>2011-12-04</th>\n",
       "      <td>0.734600</td>\n",
       "    </tr>\n",
       "    <tr>\n",
       "      <th>2011-12-21</th>\n",
       "      <td>0.230229</td>\n",
       "    </tr>\n",
       "    <tr>\n",
       "      <th>...</th>\n",
       "      <td>...</td>\n",
       "    </tr>\n",
       "    <tr>\n",
       "      <th>2012-12-14</th>\n",
       "      <td>-0.093060</td>\n",
       "    </tr>\n",
       "    <tr>\n",
       "      <th>2012-12-17</th>\n",
       "      <td>0.599400</td>\n",
       "    </tr>\n",
       "    <tr>\n",
       "      <th>2012-12-19</th>\n",
       "      <td>0.830450</td>\n",
       "    </tr>\n",
       "    <tr>\n",
       "      <th>2012-12-24</th>\n",
       "      <td>-0.074000</td>\n",
       "    </tr>\n",
       "    <tr>\n",
       "      <th>2012-12-25</th>\n",
       "      <td>0.589800</td>\n",
       "    </tr>\n",
       "  </tbody>\n",
       "</table>\n",
       "<p>157 rows × 1 columns</p>\n",
       "</div>"
      ],
      "text/plain": [
       "            Sentiment Score\n",
       "Date                       \n",
       "2010-06-04         0.051600\n",
       "2011-12-01         0.413400\n",
       "2011-12-03         0.299700\n",
       "2011-12-04         0.734600\n",
       "2011-12-21         0.230229\n",
       "...                     ...\n",
       "2012-12-14        -0.093060\n",
       "2012-12-17         0.599400\n",
       "2012-12-19         0.830450\n",
       "2012-12-24        -0.074000\n",
       "2012-12-25         0.589800\n",
       "\n",
       "[157 rows x 1 columns]"
      ]
     },
     "execution_count": 124,
     "metadata": {},
     "output_type": "execute_result"
    }
   ],
   "source": [
    "sentiment_df\n"
   ]
  },
  {
   "cell_type": "code",
   "execution_count": null,
   "id": "6ff41787",
   "metadata": {},
   "outputs": [],
   "source": []
  }
 ],
 "metadata": {
  "kernelspec": {
   "display_name": "Python 3 (ipykernel)",
   "language": "python",
   "name": "python3"
  },
  "language_info": {
   "codemirror_mode": {
    "name": "ipython",
    "version": 3
   },
   "file_extension": ".py",
   "mimetype": "text/x-python",
   "name": "python",
   "nbconvert_exporter": "python",
   "pygments_lexer": "ipython3",
   "version": "3.8.11"
  }
 },
 "nbformat": 4,
 "nbformat_minor": 5
}
