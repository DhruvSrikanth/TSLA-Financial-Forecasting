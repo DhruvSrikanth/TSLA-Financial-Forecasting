{
 "cells": [
  {
   "cell_type": "code",
   "execution_count": 69,
   "metadata": {
    "id": "Bx2N12qBxt28"
   },
   "outputs": [],
   "source": [
    "# Import required modules\n",
    "import numpy as np\n",
    "import pandas as pd\n",
    "\n",
    "import matplotlib.pyplot as plt\n",
    "\n",
    "from sklearn.preprocessing import MinMaxScaler\n",
    "\n",
    "import tensorflow as tf\n",
    "from tensorflow.keras.models import Sequential\n",
    "from tensorflow.keras.layers import Dense, Dropout, LSTM\n",
    "from tensorflow.keras.callbacks import ModelCheckpoint, EarlyStopping\n",
    "\n",
    "from sklearn.metrics import mean_squared_error"
   ]
  },
  {
   "cell_type": "code",
   "execution_count": 70,
   "metadata": {
    "id": "HIZpBbu85W_V"
   },
   "outputs": [],
   "source": [
    "# Set plot params\n",
    "plt.style.use('seaborn')\n",
    "plt.rcParams['figure.figsize'] = [20, 9]\n",
    "plt.rcParams['lines.linewidth'] = 1"
   ]
  },
  {
   "cell_type": "code",
   "execution_count": 71,
   "metadata": {
    "colab": {
     "base_uri": "https://localhost:8080/",
     "height": 267
    },
    "id": "0iK2sTe_x8CG",
    "outputId": "06cf0d0c-4a71-4a41-e588-e48cf08fce5e"
   },
   "outputs": [
    {
     "data": {
      "text/html": [
       "\n",
       "  <div id=\"df-19ad34bb-14bb-42fd-af36-c9df6f2282b2\">\n",
       "    <div class=\"colab-df-container\">\n",
       "      <div>\n",
       "<style scoped>\n",
       "    .dataframe tbody tr th:only-of-type {\n",
       "        vertical-align: middle;\n",
       "    }\n",
       "\n",
       "    .dataframe tbody tr th {\n",
       "        vertical-align: top;\n",
       "    }\n",
       "\n",
       "    .dataframe thead th {\n",
       "        text-align: right;\n",
       "    }\n",
       "</style>\n",
       "<table border=\"1\" class=\"dataframe\">\n",
       "  <thead>\n",
       "    <tr style=\"text-align: right;\">\n",
       "      <th></th>\n",
       "      <th>Open</th>\n",
       "      <th>High</th>\n",
       "      <th>Low</th>\n",
       "      <th>Close</th>\n",
       "      <th>Adj Close</th>\n",
       "      <th>Volume</th>\n",
       "      <th>Sentiment Score</th>\n",
       "      <th>LogReturn</th>\n",
       "      <th>RSI14</th>\n",
       "      <th>MACD</th>\n",
       "      <th>Intermediate Momentum</th>\n",
       "    </tr>\n",
       "  </thead>\n",
       "  <tbody>\n",
       "    <tr>\n",
       "      <th>0</th>\n",
       "      <td>19.889999</td>\n",
       "      <td>20.139999</td>\n",
       "      <td>19.500000</td>\n",
       "      <td>19.559999</td>\n",
       "      <td>19.559999</td>\n",
       "      <td>668100</td>\n",
       "      <td>0.4134</td>\n",
       "      <td>0.027233</td>\n",
       "      <td>44.122541</td>\n",
       "      <td>-1.735004</td>\n",
       "      <td>-4.330000</td>\n",
       "    </tr>\n",
       "    <tr>\n",
       "      <th>1</th>\n",
       "      <td>19.950001</td>\n",
       "      <td>20.190001</td>\n",
       "      <td>19.650000</td>\n",
       "      <td>20.100000</td>\n",
       "      <td>20.100000</td>\n",
       "      <td>578900</td>\n",
       "      <td>0.4134</td>\n",
       "      <td>0.021167</td>\n",
       "      <td>47.909296</td>\n",
       "      <td>-1.742300</td>\n",
       "      <td>-3.730000</td>\n",
       "    </tr>\n",
       "    <tr>\n",
       "      <th>2</th>\n",
       "      <td>20.400000</td>\n",
       "      <td>20.809999</td>\n",
       "      <td>20.049999</td>\n",
       "      <td>20.530001</td>\n",
       "      <td>20.530001</td>\n",
       "      <td>418600</td>\n",
       "      <td>0.4134</td>\n",
       "      <td>0.041504</td>\n",
       "      <td>50.770293</td>\n",
       "      <td>-1.710510</td>\n",
       "      <td>-1.429998</td>\n",
       "    </tr>\n",
       "    <tr>\n",
       "      <th>3</th>\n",
       "      <td>21.040001</td>\n",
       "      <td>21.490000</td>\n",
       "      <td>20.760000</td>\n",
       "      <td>21.400000</td>\n",
       "      <td>21.400000</td>\n",
       "      <td>1214500</td>\n",
       "      <td>0.4134</td>\n",
       "      <td>0.026742</td>\n",
       "      <td>56.032012</td>\n",
       "      <td>-1.606212</td>\n",
       "      <td>2.199999</td>\n",
       "    </tr>\n",
       "    <tr>\n",
       "      <th>4</th>\n",
       "      <td>21.190001</td>\n",
       "      <td>22.030001</td>\n",
       "      <td>21.129999</td>\n",
       "      <td>21.980000</td>\n",
       "      <td>21.980000</td>\n",
       "      <td>1969300</td>\n",
       "      <td>0.4134</td>\n",
       "      <td>-0.074108</td>\n",
       "      <td>59.165457</td>\n",
       "      <td>-1.461798</td>\n",
       "      <td>5.869999</td>\n",
       "    </tr>\n",
       "  </tbody>\n",
       "</table>\n",
       "</div>\n",
       "      <button class=\"colab-df-convert\" onclick=\"convertToInteractive('df-19ad34bb-14bb-42fd-af36-c9df6f2282b2')\"\n",
       "              title=\"Convert this dataframe to an interactive table.\"\n",
       "              style=\"display:none;\">\n",
       "        \n",
       "  <svg xmlns=\"http://www.w3.org/2000/svg\" height=\"24px\"viewBox=\"0 0 24 24\"\n",
       "       width=\"24px\">\n",
       "    <path d=\"M0 0h24v24H0V0z\" fill=\"none\"/>\n",
       "    <path d=\"M18.56 5.44l.94 2.06.94-2.06 2.06-.94-2.06-.94-.94-2.06-.94 2.06-2.06.94zm-11 1L8.5 8.5l.94-2.06 2.06-.94-2.06-.94L8.5 2.5l-.94 2.06-2.06.94zm10 10l.94 2.06.94-2.06 2.06-.94-2.06-.94-.94-2.06-.94 2.06-2.06.94z\"/><path d=\"M17.41 7.96l-1.37-1.37c-.4-.4-.92-.59-1.43-.59-.52 0-1.04.2-1.43.59L10.3 9.45l-7.72 7.72c-.78.78-.78 2.05 0 2.83L4 21.41c.39.39.9.59 1.41.59.51 0 1.02-.2 1.41-.59l7.78-7.78 2.81-2.81c.8-.78.8-2.07 0-2.86zM5.41 20L4 18.59l7.72-7.72 1.47 1.35L5.41 20z\"/>\n",
       "  </svg>\n",
       "      </button>\n",
       "      \n",
       "  <style>\n",
       "    .colab-df-container {\n",
       "      display:flex;\n",
       "      flex-wrap:wrap;\n",
       "      gap: 12px;\n",
       "    }\n",
       "\n",
       "    .colab-df-convert {\n",
       "      background-color: #E8F0FE;\n",
       "      border: none;\n",
       "      border-radius: 50%;\n",
       "      cursor: pointer;\n",
       "      display: none;\n",
       "      fill: #1967D2;\n",
       "      height: 32px;\n",
       "      padding: 0 0 0 0;\n",
       "      width: 32px;\n",
       "    }\n",
       "\n",
       "    .colab-df-convert:hover {\n",
       "      background-color: #E2EBFA;\n",
       "      box-shadow: 0px 1px 2px rgba(60, 64, 67, 0.3), 0px 1px 3px 1px rgba(60, 64, 67, 0.15);\n",
       "      fill: #174EA6;\n",
       "    }\n",
       "\n",
       "    [theme=dark] .colab-df-convert {\n",
       "      background-color: #3B4455;\n",
       "      fill: #D2E3FC;\n",
       "    }\n",
       "\n",
       "    [theme=dark] .colab-df-convert:hover {\n",
       "      background-color: #434B5C;\n",
       "      box-shadow: 0px 1px 3px 1px rgba(0, 0, 0, 0.15);\n",
       "      filter: drop-shadow(0px 1px 2px rgba(0, 0, 0, 0.3));\n",
       "      fill: #FFFFFF;\n",
       "    }\n",
       "  </style>\n",
       "\n",
       "      <script>\n",
       "        const buttonEl =\n",
       "          document.querySelector('#df-19ad34bb-14bb-42fd-af36-c9df6f2282b2 button.colab-df-convert');\n",
       "        buttonEl.style.display =\n",
       "          google.colab.kernel.accessAllowed ? 'block' : 'none';\n",
       "\n",
       "        async function convertToInteractive(key) {\n",
       "          const element = document.querySelector('#df-19ad34bb-14bb-42fd-af36-c9df6f2282b2');\n",
       "          const dataTable =\n",
       "            await google.colab.kernel.invokeFunction('convertToInteractive',\n",
       "                                                     [key], {});\n",
       "          if (!dataTable) return;\n",
       "\n",
       "          const docLinkHtml = 'Like what you see? Visit the ' +\n",
       "            '<a target=\"_blank\" href=https://colab.research.google.com/notebooks/data_table.ipynb>data table notebook</a>'\n",
       "            + ' to learn more about interactive tables.';\n",
       "          element.innerHTML = '';\n",
       "          dataTable['output_type'] = 'display_data';\n",
       "          await google.colab.output.renderOutput(dataTable, element);\n",
       "          const docLink = document.createElement('div');\n",
       "          docLink.innerHTML = docLinkHtml;\n",
       "          element.appendChild(docLink);\n",
       "        }\n",
       "      </script>\n",
       "    </div>\n",
       "  </div>\n",
       "  "
      ],
      "text/plain": [
       "        Open       High        Low      Close  Adj Close   Volume  \\\n",
       "0  19.889999  20.139999  19.500000  19.559999  19.559999   668100   \n",
       "1  19.950001  20.190001  19.650000  20.100000  20.100000   578900   \n",
       "2  20.400000  20.809999  20.049999  20.530001  20.530001   418600   \n",
       "3  21.040001  21.490000  20.760000  21.400000  21.400000  1214500   \n",
       "4  21.190001  22.030001  21.129999  21.980000  21.980000  1969300   \n",
       "\n",
       "   Sentiment Score  LogReturn      RSI14      MACD  Intermediate Momentum  \n",
       "0           0.4134   0.027233  44.122541 -1.735004              -4.330000  \n",
       "1           0.4134   0.021167  47.909296 -1.742300              -3.730000  \n",
       "2           0.4134   0.041504  50.770293 -1.710510              -1.429998  \n",
       "3           0.4134   0.026742  56.032012 -1.606212               2.199999  \n",
       "4           0.4134  -0.074108  59.165457 -1.461798               5.869999  "
      ]
     },
     "execution_count": 71,
     "metadata": {},
     "output_type": "execute_result"
    }
   ],
   "source": [
    "# Read in dataset\n",
    "\n",
    "data_path = \"data/processed_dataset/dataset_p2.csv\"\n",
    "data_df = pd.read_csv(data_path)\n",
    "data_df.head()"
   ]
  },
  {
   "cell_type": "code",
   "execution_count": 72,
   "metadata": {
    "id": "bLqrOSmUyYQi"
   },
   "outputs": [],
   "source": [
    "def normalize(df, scalar):\n",
    "    '''\n",
    "    Normalize data.\n",
    "    '''\n",
    "    df.dropna(inplace = True)\n",
    "    cols = df.columns.tolist()\n",
    "    for c in cols:\n",
    "        df[c] = scalar.fit_transform(np.array(df[c]).reshape(-1,1))\n",
    "\n",
    "    return df\n",
    "\n",
    "\n",
    "def batch_dataset(predictors, target, start, end, window):\n",
    "    '''\n",
    "    Batch data.\n",
    "    '''\n",
    "    X = []\n",
    "    y = []\n",
    "    \n",
    "    start += window\n",
    "    \n",
    "    for i in range(start, end):\n",
    "        idx = range(i - window, i)\n",
    "        X.append(predictors.loc[idx,:])\n",
    "        y.append(target.loc[i,:])\n",
    "\n",
    "    return np.array(X), np.array(y).ravel()\n",
    "\n",
    "def preprocess_dataset(df, target, test_size, window, scalar):\n",
    "    '''\n",
    "    Preprocess data.\n",
    "    '''\n",
    "    \n",
    "    df = normalize(df, scalar)\n",
    "    \n",
    "    X = df.loc[:, df.columns != target]\n",
    "    y = df.loc[:, df.columns == target]\n",
    "    \n",
    "    split = round((1-test_size)*len(df))\n",
    "    \n",
    "    X_train, y_train = batch_dataset(X, y, 0, split, window)\n",
    "    X_test, y_test = batch_dataset(X, y, split, len(df), window)\n",
    "    \n",
    "    return X_train, y_train, X_test, y_test"
   ]
  },
  {
   "cell_type": "code",
   "execution_count": 73,
   "metadata": {
    "id": "5M4tE6H2yago"
   },
   "outputs": [],
   "source": [
    "# dataset params\n",
    "test_size = 0.2\n",
    "window = 100"
   ]
  },
  {
   "cell_type": "code",
   "execution_count": 85,
   "metadata": {
    "colab": {
     "base_uri": "https://localhost:8080/"
    },
    "id": "8Glteph4cVGo",
    "outputId": "3c29da9d-2e59-477f-b60c-ded6075cdc7a"
   },
   "outputs": [
    {
     "name": "stdout",
     "output_type": "stream",
     "text": [
      "Data shapes:\n",
      " (1766, 100, 10) (1766,) (367, 100, 10) (367,)\n"
     ]
    }
   ],
   "source": [
    "# Split and normalize data\n",
    "\n",
    "scalar = MinMaxScaler()\n",
    "\n",
    "X_train, y_train, X_test, y_test = preprocess_dataset(data_df, 'Adj Close', test_size, window, scalar)\n",
    "print('Data shapes:\\n', X_train.shape, y_train.shape, X_test.shape, y_test.shape)"
   ]
  },
  {
   "cell_type": "code",
   "execution_count": 86,
   "metadata": {
    "id": "7Vg3ekP0yfSJ"
   },
   "outputs": [],
   "source": [
    "def build_model(input_shape):\n",
    "    '''\n",
    "    Define model architecture.\n",
    "    '''\n",
    "    model = Sequential()\n",
    "\n",
    "    # Block 1 and input layer\n",
    "    model.add(LSTM(units = 50, return_sequences = True, input_shape = input_shape))\n",
    "    model.add(Dropout(0.2))\n",
    "\n",
    "    # Block 2\n",
    "    model.add(LSTM(units = 50, return_sequences = True))\n",
    "    model.add(Dropout(0.2))\n",
    "\n",
    "    # Block 3\n",
    "    model.add(LSTM(units = 50))\n",
    "    model.add(Dropout(0.2))\n",
    "\n",
    "    # Block 4 and output layer\n",
    "    model.add(Dense(units=1))\n",
    "\n",
    "    return model"
   ]
  },
  {
   "cell_type": "code",
   "execution_count": 87,
   "metadata": {
    "colab": {
     "base_uri": "https://localhost:8080/"
    },
    "id": "l2gwKnwXyiz4",
    "outputId": "9cd1e109-c5a7-4b67-9c24-6d1d07802d24"
   },
   "outputs": [
    {
     "name": "stdout",
     "output_type": "stream",
     "text": [
      "Model: \"sequential_4\"\n",
      "_________________________________________________________________\n",
      " Layer (type)                Output Shape              Param #   \n",
      "=================================================================\n",
      " lstm_12 (LSTM)              (None, 100, 50)           12200     \n",
      "                                                                 \n",
      " dropout_12 (Dropout)        (None, 100, 50)           0         \n",
      "                                                                 \n",
      " lstm_13 (LSTM)              (None, 100, 50)           20200     \n",
      "                                                                 \n",
      " dropout_13 (Dropout)        (None, 100, 50)           0         \n",
      "                                                                 \n",
      " lstm_14 (LSTM)              (None, 50)                20200     \n",
      "                                                                 \n",
      " dropout_14 (Dropout)        (None, 50)                0         \n",
      "                                                                 \n",
      " dense_4 (Dense)             (None, 1)                 51        \n",
      "                                                                 \n",
      "=================================================================\n",
      "Total params: 52,651\n",
      "Trainable params: 52,651\n",
      "Non-trainable params: 0\n",
      "_________________________________________________________________\n"
     ]
    }
   ],
   "source": [
    "# Build model\n",
    "input_shape = (X_train.shape[1], X_train.shape[2]) # input shape of the model\n",
    "\n",
    "model = build_model(input_shape)\n",
    "model.summary()"
   ]
  },
  {
   "cell_type": "code",
   "execution_count": 88,
   "metadata": {
    "id": "Pe0VU_Y9ymgX"
   },
   "outputs": [],
   "source": [
    "# Define model strategy\n",
    "strategy = {\n",
    "            'optimizer':'adam',\n",
    "            'loss':'mean_squared_error',\n",
    "            'metrics':[\n",
    "                       'mean_squared_error'\n",
    "                       ]\n",
    "            }\n",
    "\n",
    "model.compile(optimizer=strategy['optimizer'], \n",
    "              loss=strategy['loss'],\n",
    "              metrics=strategy['metrics'])"
   ]
  },
  {
   "cell_type": "code",
   "execution_count": 89,
   "metadata": {
    "id": "X4kbq3GsypMh"
   },
   "outputs": [],
   "source": [
    "# Save model weights\n",
    "weights_path = 'weights/weights_best.hdf5'\n",
    "\n",
    "checkpointer = ModelCheckpoint(filepath = weights_path, \n",
    "                               monitor = 'val_loss',\n",
    "                               verbose = 1, \n",
    "                               save_best_only = True,\n",
    "                               mode = 'min')"
   ]
  },
  {
   "cell_type": "code",
   "execution_count": 90,
   "metadata": {
    "id": "RJova4ddzmFe"
   },
   "outputs": [],
   "source": [
    "# Training params\n",
    "EPOCHS = 20\n",
    "BATCH_SIZE = 32\n",
    "validation_split = 0.2"
   ]
  },
  {
   "cell_type": "code",
   "execution_count": 91,
   "metadata": {
    "colab": {
     "base_uri": "https://localhost:8080/"
    },
    "id": "W9sRCCjTdhXu",
    "outputId": "cc79a958-cdf6-42ab-9b8d-6088d95c7fb6"
   },
   "outputs": [
    {
     "name": "stdout",
     "output_type": "stream",
     "text": [
      "Epoch 1/20\n",
      "45/45 [==============================] - ETA: 0s - loss: 0.0071 - mean_squared_error: 0.0071\n",
      "Epoch 1: val_loss improved from inf to 0.04118, saving model to weights/weights_best.hdf5\n",
      "45/45 [==============================] - 7s 44ms/step - loss: 0.0071 - mean_squared_error: 0.0071 - val_loss: 0.0412 - val_mean_squared_error: 0.0412\n",
      "Epoch 2/20\n",
      "45/45 [==============================] - ETA: 0s - loss: 0.0202 - mean_squared_error: 0.0202\n",
      "Epoch 2: val_loss improved from 0.04118 to 0.01599, saving model to weights/weights_best.hdf5\n",
      "45/45 [==============================] - 1s 18ms/step - loss: 0.0202 - mean_squared_error: 0.0202 - val_loss: 0.0160 - val_mean_squared_error: 0.0160\n",
      "Epoch 3/20\n",
      "45/45 [==============================] - ETA: 0s - loss: 0.0327 - mean_squared_error: 0.0327\n",
      "Epoch 3: val_loss did not improve from 0.01599\n",
      "45/45 [==============================] - 1s 16ms/step - loss: 0.0327 - mean_squared_error: 0.0327 - val_loss: 0.0257 - val_mean_squared_error: 0.0257\n",
      "Epoch 4/20\n",
      "45/45 [==============================] - ETA: 0s - loss: 0.0122 - mean_squared_error: 0.0122\n",
      "Epoch 4: val_loss improved from 0.01599 to 0.01031, saving model to weights/weights_best.hdf5\n",
      "45/45 [==============================] - 1s 17ms/step - loss: 0.0122 - mean_squared_error: 0.0122 - val_loss: 0.0103 - val_mean_squared_error: 0.0103\n",
      "Epoch 5/20\n",
      "44/45 [============================>.] - ETA: 0s - loss: 0.0062 - mean_squared_error: 0.0062\n",
      "Epoch 5: val_loss did not improve from 0.01031\n",
      "45/45 [==============================] - 1s 16ms/step - loss: 0.0062 - mean_squared_error: 0.0062 - val_loss: 0.0186 - val_mean_squared_error: 0.0186\n",
      "Epoch 6/20\n",
      "45/45 [==============================] - ETA: 0s - loss: 0.0069 - mean_squared_error: 0.0069\n",
      "Epoch 6: val_loss did not improve from 0.01031\n",
      "45/45 [==============================] - 1s 17ms/step - loss: 0.0069 - mean_squared_error: 0.0069 - val_loss: 0.0239 - val_mean_squared_error: 0.0239\n",
      "Epoch 7/20\n",
      "44/45 [============================>.] - ETA: 0s - loss: 0.0042 - mean_squared_error: 0.0042\n",
      "Epoch 7: val_loss did not improve from 0.01031\n",
      "45/45 [==============================] - 1s 16ms/step - loss: 0.0042 - mean_squared_error: 0.0042 - val_loss: 0.0253 - val_mean_squared_error: 0.0253\n",
      "Epoch 8/20\n",
      "44/45 [============================>.] - ETA: 0s - loss: 0.0035 - mean_squared_error: 0.0035\n",
      "Epoch 8: val_loss did not improve from 0.01031\n",
      "45/45 [==============================] - 1s 17ms/step - loss: 0.0035 - mean_squared_error: 0.0035 - val_loss: 0.0164 - val_mean_squared_error: 0.0164\n",
      "Epoch 9/20\n",
      "45/45 [==============================] - ETA: 0s - loss: 0.0040 - mean_squared_error: 0.0040\n",
      "Epoch 9: val_loss did not improve from 0.01031\n",
      "45/45 [==============================] - 1s 17ms/step - loss: 0.0040 - mean_squared_error: 0.0040 - val_loss: 0.0192 - val_mean_squared_error: 0.0192\n",
      "Epoch 10/20\n",
      "43/45 [===========================>..] - ETA: 0s - loss: 0.0037 - mean_squared_error: 0.0037\n",
      "Epoch 10: val_loss did not improve from 0.01031\n",
      "45/45 [==============================] - 1s 17ms/step - loss: 0.0036 - mean_squared_error: 0.0036 - val_loss: 0.0239 - val_mean_squared_error: 0.0239\n",
      "Epoch 11/20\n",
      "45/45 [==============================] - ETA: 0s - loss: 0.0031 - mean_squared_error: 0.0031\n",
      "Epoch 11: val_loss did not improve from 0.01031\n",
      "45/45 [==============================] - 1s 17ms/step - loss: 0.0031 - mean_squared_error: 0.0031 - val_loss: 0.0190 - val_mean_squared_error: 0.0190\n",
      "Epoch 12/20\n",
      "44/45 [============================>.] - ETA: 0s - loss: 0.0035 - mean_squared_error: 0.0035\n",
      "Epoch 12: val_loss did not improve from 0.01031\n",
      "45/45 [==============================] - 1s 16ms/step - loss: 0.0035 - mean_squared_error: 0.0035 - val_loss: 0.0200 - val_mean_squared_error: 0.0200\n",
      "Epoch 13/20\n",
      "44/45 [============================>.] - ETA: 0s - loss: 0.0032 - mean_squared_error: 0.0032\n",
      "Epoch 13: val_loss did not improve from 0.01031\n",
      "45/45 [==============================] - 1s 17ms/step - loss: 0.0032 - mean_squared_error: 0.0032 - val_loss: 0.0190 - val_mean_squared_error: 0.0190\n",
      "Epoch 14/20\n",
      "45/45 [==============================] - ETA: 0s - loss: 0.0033 - mean_squared_error: 0.0033\n",
      "Epoch 14: val_loss did not improve from 0.01031\n",
      "45/45 [==============================] - 1s 17ms/step - loss: 0.0033 - mean_squared_error: 0.0033 - val_loss: 0.0239 - val_mean_squared_error: 0.0239\n",
      "Epoch 15/20\n",
      "45/45 [==============================] - ETA: 0s - loss: 0.0034 - mean_squared_error: 0.0034\n",
      "Epoch 15: val_loss did not improve from 0.01031\n",
      "45/45 [==============================] - 1s 17ms/step - loss: 0.0034 - mean_squared_error: 0.0034 - val_loss: 0.0225 - val_mean_squared_error: 0.0225\n",
      "Epoch 16/20\n",
      "45/45 [==============================] - ETA: 0s - loss: 0.0030 - mean_squared_error: 0.0030\n",
      "Epoch 16: val_loss did not improve from 0.01031\n",
      "45/45 [==============================] - 1s 17ms/step - loss: 0.0030 - mean_squared_error: 0.0030 - val_loss: 0.0213 - val_mean_squared_error: 0.0213\n",
      "Epoch 17/20\n",
      "45/45 [==============================] - ETA: 0s - loss: 0.0028 - mean_squared_error: 0.0028\n",
      "Epoch 17: val_loss did not improve from 0.01031\n",
      "45/45 [==============================] - 1s 17ms/step - loss: 0.0028 - mean_squared_error: 0.0028 - val_loss: 0.0199 - val_mean_squared_error: 0.0199\n",
      "Epoch 18/20\n",
      "45/45 [==============================] - ETA: 0s - loss: 0.0032 - mean_squared_error: 0.0032\n",
      "Epoch 18: val_loss did not improve from 0.01031\n",
      "45/45 [==============================] - 1s 17ms/step - loss: 0.0032 - mean_squared_error: 0.0032 - val_loss: 0.0224 - val_mean_squared_error: 0.0224\n",
      "Epoch 19/20\n",
      "45/45 [==============================] - ETA: 0s - loss: 0.0032 - mean_squared_error: 0.0032\n",
      "Epoch 19: val_loss did not improve from 0.01031\n",
      "45/45 [==============================] - 1s 16ms/step - loss: 0.0032 - mean_squared_error: 0.0032 - val_loss: 0.0222 - val_mean_squared_error: 0.0222\n",
      "Epoch 20/20\n",
      "44/45 [============================>.] - ETA: 0s - loss: 0.0032 - mean_squared_error: 0.0032\n",
      "Epoch 20: val_loss did not improve from 0.01031\n",
      "45/45 [==============================] - 1s 17ms/step - loss: 0.0032 - mean_squared_error: 0.0032 - val_loss: 0.0212 - val_mean_squared_error: 0.0212\n"
     ]
    },
    {
     "data": {
      "text/plain": [
       "<keras.callbacks.History at 0x7f5c2158ff50>"
      ]
     },
     "execution_count": 91,
     "metadata": {},
     "output_type": "execute_result"
    }
   ],
   "source": [
    "# Train model\n",
    "\n",
    "model.fit(X_train, \n",
    "          y_train, \n",
    "          epochs=EPOCHS, \n",
    "          batch_size = BATCH_SIZE, \n",
    "          callbacks = [checkpointer],\n",
    "          verbose = 1,\n",
    "          shuffle = False,\n",
    "          validation_split = validation_split)"
   ]
  },
  {
   "cell_type": "code",
   "execution_count": 92,
   "metadata": {
    "colab": {
     "base_uri": "https://localhost:8080/"
    },
    "id": "G1nPl0O6dyIu",
    "outputId": "bf71bfbd-3936-4a1a-e55e-06b8fc89516e"
   },
   "outputs": [
    {
     "name": "stdout",
     "output_type": "stream",
     "text": [
      "0.1415\n"
     ]
    }
   ],
   "source": [
    "# Evaluate model\n",
    "eval_rmse = round(mean_squared_error(y_test, model.predict(X_test), squared=False), 4)\n",
    "print(eval_rmse)"
   ]
  },
  {
   "cell_type": "code",
   "execution_count": 93,
   "metadata": {
    "id": "1vCkqpbj3PsD"
   },
   "outputs": [],
   "source": [
    "def get_complete_data(train, test):\n",
    "    '''\n",
    "    Concatenate data to predict on entire dataset.\n",
    "    '''\n",
    "    concat = []\n",
    "    for element in train:\n",
    "        concat.append(element)\n",
    "    for element in test:\n",
    "        concat.append(element)\n",
    "    \n",
    "    return np.array(concat)\n",
    "\n",
    "test_x = get_complete_data(X_train, X_test)\n",
    "test_y = get_complete_data(y_train, y_test)"
   ]
  },
  {
   "cell_type": "code",
   "execution_count": 94,
   "metadata": {
    "colab": {
     "base_uri": "https://localhost:8080/",
     "height": 496
    },
    "id": "-lQ0QmTn2NBt",
    "outputId": "4edc6322-34fb-477f-99ec-adb6e0f245a9"
   },
   "outputs": [
    {
     "data": {
      "image/png": "[encoded data removed]",
      "text/plain": [
       "<Figure size 1440x648 with 1 Axes>"
      ]
     },
     "metadata": {},
     "output_type": "display_data"
    }
   ],
   "source": [
    "plt.plot(test_y, color='blue', label=f\"actual prices\")\n",
    "plt.plot(model.predict(test_x), color= 'green', label=f\"predicted price\")\n",
    "plt.title(f\"TESLA\")\n",
    "plt.xlabel(\"day\")\n",
    "plt.ylabel(f\"price\")\n",
    "plt.legend()\n",
    "plt.show()"
   ]
  },
  {
   "cell_type": "code",
   "execution_count": null,
   "metadata": {
    "id": "kEw4LwgQ6BRA"
   },
   "outputs": [],
   "source": []
  }
 ],
 "metadata": {
  "accelerator": "GPU",
  "colab": {
   "collapsed_sections": [],
   "name": "TSLA_Stock.ipynb",
   "provenance": []
  },
  "kernelspec": {
   "display_name": "Python 3 (ipykernel)",
   "language": "python",
   "name": "python3"
  },
  "language_info": {
   "codemirror_mode": {
    "name": "ipython",
    "version": 3
   },
   "file_extension": ".py",
   "mimetype": "text/x-python",
   "name": "python",
   "nbconvert_exporter": "python",
   "pygments_lexer": "ipython3",
   "version": "3.8.11"
  }
 },
 "nbformat": 4,
 "nbformat_minor": 1
}
