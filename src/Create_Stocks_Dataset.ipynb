{
 "cells": [
  {
   "cell_type": "markdown",
   "id": "a05dc8e4",
   "metadata": {},
   "source": [
    "### Process Stocks Dataset"
   ]
  },
  {
   "cell_type": "code",
   "execution_count": 5,
   "id": "441991d0",
   "metadata": {},
   "outputs": [],
   "source": [
    "# Import required modules\n",
    "import pandas as pd"
   ]
  },
  {
   "cell_type": "code",
   "execution_count": 6,
   "id": "2ff3bb5d",
   "metadata": {},
   "outputs": [],
   "source": [
    "def restrict_data(df, end = '2020'):\n",
    "    '''\n",
    "    Restrict range of data sliced from df.\n",
    "    '''\n",
    "    dates = df.Date.tolist()\n",
    "    for i in range(len(dates)):\n",
    "        if end in dates[i]:\n",
    "            i -= 1\n",
    "            break\n",
    "    df = df.iloc[:i+1]\n",
    "    df.reset_index()\n",
    "    return df"
   ]
  },
  {
   "cell_type": "code",
   "execution_count": 7,
   "id": "8aec8188",
   "metadata": {},
   "outputs": [],
   "source": [
    "def create_bounded_stocks_data(data_path, save_path):\n",
    "    '''\n",
    "    Create timeframe restricted dataset and write to csv.\n",
    "    '''\n",
    "    tsla_df = pd.read_csv(data_path)\n",
    "    restricted_tsla_df = restrict_data(tsla_df, '2020')\n",
    "    print(\"Sample of Data - \\n\\n{}\\n\\n\".format(restricted_tsla_df.head()))\n",
    "    \n",
    "    print(\"Writing Data to CSV - {}\".format(save_path))\n",
    "    restricted_tsla_df.to_csv(save_path, encoding='utf-8', index=False)\n",
    "    "
   ]
  },
  {
   "cell_type": "code",
   "execution_count": 8,
   "id": "adecc95f",
   "metadata": {},
   "outputs": [],
   "source": [
    "# File paths\n",
    "data_path = 'data/raw/TSLA_stock/TSLA.csv'\n",
    "save_path = 'data/processed_dataset/Bound_TSLA.csv'\n"
   ]
  },
  {
   "cell_type": "code",
   "execution_count": 9,
   "id": "3d7b8c30",
   "metadata": {},
   "outputs": [
    {
     "name": "stdout",
     "output_type": "stream",
     "text": [
      "Sample of Data - \n",
      "\n",
      "         Date       Open   High        Low      Close  Adj Close    Volume\n",
      "0  2010-06-29  19.000000  25.00  17.540001  23.889999  23.889999  18766300\n",
      "1  2010-06-30  25.790001  30.42  23.299999  23.830000  23.830000  17187100\n",
      "2  2010-07-01  25.000000  25.92  20.270000  21.959999  21.959999   8218800\n",
      "3  2010-07-02  23.000000  23.10  18.709999  19.200001  19.200001   5139800\n",
      "4  2010-07-06  20.000000  20.00  15.830000  16.110001  16.110001   6866900\n",
      "\n",
      "\n",
      "Writing Data to CSV - data/processed_dataset/Bound_TSLA.csv\n"
     ]
    }
   ],
   "source": [
    "create_bounded_stocks_data(data_path, save_path)"
   ]
  },
  {
   "cell_type": "code",
   "execution_count": null,
   "id": "cb9ab7d9",
   "metadata": {},
   "outputs": [],
   "source": []
  },
  {
   "cell_type": "code",
   "execution_count": null,
   "id": "8e5ea8d4",
   "metadata": {},
   "outputs": [],
   "source": []
  }
 ],
 "metadata": {
  "kernelspec": {
   "display_name": "Python 3 (ipykernel)",
   "language": "python",
   "name": "python3"
  },
  "language_info": {
   "codemirror_mode": {
    "name": "ipython",
    "version": 3
   },
   "file_extension": ".py",
   "mimetype": "text/x-python",
   "name": "python",
   "nbconvert_exporter": "python",
   "pygments_lexer": "ipython3",
   "version": "3.8.11"
  }
 },
 "nbformat": 4,
 "nbformat_minor": 5
}
